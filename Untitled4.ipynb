{
  "nbformat": 4,
  "nbformat_minor": 0,
  "metadata": {
    "colab": {
      "provenance": [],
      "authorship_tag": "ABX9TyNOn29qh4IDK9lDMzWPVSTt",
      "include_colab_link": true
    },
    "kernelspec": {
      "name": "python3",
      "display_name": "Python 3"
    },
    "language_info": {
      "name": "python"
    }
  },
  "cells": [
    {
      "cell_type": "markdown",
      "metadata": {
        "id": "view-in-github",
        "colab_type": "text"
      },
      "source": [
        "<a href=\"https://colab.research.google.com/github/jashandeepsingh12091-max/week06_portfolio_contact_book.ipynb./blob/main/Untitled4.ipynb\" target=\"_parent\"><img src=\"https://colab.research.google.com/assets/colab-badge.svg\" alt=\"Open In Colab\"/></a>"
      ]
    },
    {
      "cell_type": "markdown",
      "source": [
        "\n",
        "Problem 1: Tip Calculator\n",
        "\n",
        " STEP 1: Understand the Problem\n",
        "\n",
        " This program helps restaurant staff calculate the correct tip and total amount to charge a customer. The staff will input the bill amount and the tip percentage they want to give, and the program will return both the tip amount and the total bill including the tip.\n",
        "\n",
        "step 2 indentify inputs and outputs\n",
        "\n",
        "INPUTS\n",
        "\n",
        "The bill amount (e.g., $45.80)\n",
        "\n",
        "The tip percentage (e.g., 15%)\n",
        "\n",
        "OUTPUT\n",
        "\n",
        "Tip amount (number, e.g., 6.87)\n",
        "\n",
        "Total amount to charge (number, e.g., 52.67)\n",
        "\n",
        "STEP 3: Work It By Hand\n",
        "\n",
        "Given:\n",
        "Bill amount = $45.80\n",
        "Tip percentage = 15%\n",
        "\n",
        "Step-by-step:\n",
        "\n",
        "Multiply the bill amount by the tip percentage (in decimal):\n",
        "→ $45.80 × 0.15 = $6.87\n",
        "\n",
        "Add the tip to the original bill to get the total amount:\n",
        "→ $45.80 + $6.87 = $52.67\n",
        "\n",
        "Final result:\n",
        "→ Tip is $6.87,            \n",
        " total amount to charge is $52.67\n",
        "\n",
        "What I would tell the staff member:\n",
        "“Tip is $6.87, total charge is $52.67.”\n",
        "\n",
        "1.2 Problem 2: Late Fee Calculator\n",
        "\n",
        " STEP 1: Understand the Problem\n",
        "\n",
        "This program helps library staff calculate how much to fine a borrower for returning a book late. If the book is overdue, the staff enter how many days late it is, and the program calculates the fine — 50 cents per day — but never more than $10. If the fine goes over $10, the system should just say “Maximum fine reached.\n",
        "\n",
        "✅ STEP 2: Identify Inputs and Outputs\n",
        "\n",
        "INPUTS:\n",
        "\n",
        "Days overdue (number, e.g., 5 or 25)\n",
        "\n",
        "OUTPUTS:\n",
        "\n",
        "Fine amount (number in dollars, or message)\n",
        "\n",
        "Special case: If fine exceeds $10.00, the output should say “Maximum fine reached”\n",
        "\n",
        "STEP 3: Work It By Hand\n",
        "Case A: Book is 5 days late\n",
        "\n",
        "Fine = 5 × $0.50 = $2.50\n",
        "Fine: $2.50\n",
        "\n",
        "Case B: Book is 25 days late\n",
        "\n",
        "25 × $0.50 = $12.50 → This is above the $10 maximum\n",
        "Fine: Maximum fine reached\n",
        "Special note: The fine cannot go above $10.00, even if the calculated amount is higher.\n",
        "\n",
        "Case C: Book is 0 days late\n",
        "\n",
        "No days late → No fine\n",
        "Fine: $0.00\n"
      ],
      "metadata": {
        "id": "usDU7UetjsfX"
      }
    },
    {
      "cell_type": "code",
      "execution_count": null,
      "metadata": {
        "id": "KgoBUyh1jetP"
      },
      "outputs": [],
      "source": []
    }
  ]
}