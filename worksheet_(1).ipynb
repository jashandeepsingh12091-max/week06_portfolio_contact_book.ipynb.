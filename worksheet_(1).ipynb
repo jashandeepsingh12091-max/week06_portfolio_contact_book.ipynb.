{
  "cells": [
    {
      "cell_type": "markdown",
      "metadata": {
        "id": "view-in-github",
        "colab_type": "text"
      },
      "source": [
        "<a href=\"https://colab.research.google.com/github/jashandeepsingh12091-max/week06_portfolio_contact_book.ipynb./blob/main/worksheet_(1).ipynb\" target=\"_parent\"><img src=\"https://colab.research.google.com/assets/colab-badge.svg\" alt=\"Open In Colab\"/></a>"
      ]
    },
    {
      "cell_type": "raw",
      "metadata": {
        "id": "WCjwi8cmgfR_"
      },
      "source": [
        "---\n",
        "title: 'Week 6 – Worksheet: Mini Contact Book'\n",
        "subtitle: 'Assessment 2 – Portfolio • Part 1 (In-class, 20–30 mins)'\n",
        "format:\n",
        "  html:\n",
        "    toc: true\n",
        "    toc-depth: 2\n",
        "    number-sections: false\n",
        "    code-copy: true\n",
        "    theme: cosmo\n",
        "  pdf:\n",
        "    toc: false\n",
        "  docx:\n",
        "    toc: false\n",
        "execute:\n",
        "  echo: true\n",
        "  warning: false\n",
        "  error: true\n",
        "---"
      ]
    },
    {
      "cell_type": "markdown",
      "metadata": {
        "id": "QbBBRmqggfSB"
      },
      "source": [
        "## Learning Goals\n",
        "\n",
        "- Use **dictionaries** to store and retrieve data by **key**.  \n",
        "- Practise **create / update / iterate** operations.  \n",
        "- (Stretch) Model richer data with a **nested dictionary**.  \n",
        "- Record how you **used AI** to assist your work.\n",
        "\n",
        "::: callout-tip\n",
        "### What you’ll build\n",
        "A tiny **Contact Book** in Google Colab: add a few contacts, update one, and print them neatly.  \n",
        "If you finish early, extend it with emails.\n",
        ":::\n",
        "\n",
        "## Setup (2 minutes)\n",
        "\n",
        "1. Open **Google Colab** and create a new notebook.  \n",
        "2. Rename it: `week06_portfolio_contact_book.ipynb`.  \n",
        "3. You will push this file to your **Assessment 2 GitHub repo** at the end."
      ]
    },
    {
      "cell_type": "markdown",
      "metadata": {
        "id": "TvM4aP_1gfSD"
      },
      "source": [
        "---\n",
        "\n",
        "## Part A — Basics (Must Do)\n",
        "\n",
        "Follow each TODO. Leave your work visible in the cells (don’t delete earlier code).\n",
        "\n",
        "### A1. Create a dictionary with 3 contacts"
      ]
    },
    {
      "cell_type": "code",
      "metadata": {
        "id": "azHtjvxOgfSE"
      },
      "source": [
        "# TODO: Create a dictionary called `contacts` with 3 entries\n",
        "# Each key should be a person's name, each value their phone number (string)\n",
        "\n",
        "contacts = {\n",
        "    # e.g. \"Alice\": \"0400 123 456\",\n",
        "}\n",
        "````\n",
        "\n",
        "### A2. Add a new entry (your name)\n",
        "\n",
        "```{python}\n",
        "# TODO: Add yourself (or another name) to the contacts dictionary"
      ],
      "execution_count": null,
      "outputs": []
    },
    {
      "cell_type": "code",
      "source": [
        "\n",
        "# Step A1: Create a dictionary with 3 contacts\n",
        "contacts = {\n",
        "    \"Alice\": \"0400 123 456\",\n",
        "    \"Bob\": \"0411 000 999\",\n",
        "    \"Charlie\": \"0422 333 444\"\n",
        "}\n",
        "\n",
        "# Check the dictionary\n",
        "contacts\n",
        "\n",
        "\n",
        "# Step A2: Add yourself (or another name) to the contacts dictionary\n",
        "contacts[\"jashan\"] = \"0455 678 999\"\n",
        "\n",
        "# Check the updated dictionary\n",
        "contacts\n"
      ],
      "metadata": {
        "colab": {
          "base_uri": "https://localhost:8080/"
        },
        "id": "O7sOrntEhfYS",
        "outputId": "63ad2baa-cc05-4ca4-aae2-f3beff887e2a"
      },
      "execution_count": 3,
      "outputs": [
        {
          "output_type": "execute_result",
          "data": {
            "text/plain": [
              "{'Alice': '0400 123 456',\n",
              " 'Bob': '0411 000 999',\n",
              " 'Charlie': '0422 333 444',\n",
              " 'jashan': '0455 678 999'}"
            ]
          },
          "metadata": {},
          "execution_count": 3
        }
      ]
    },
    {
      "cell_type": "markdown",
      "metadata": {
        "id": "nLFl4XoZgfSG"
      },
      "source": [
        "### A3. Update an existing contact’s number"
      ]
    },
    {
      "cell_type": "code",
      "metadata": {
        "id": "O4cCr6TggfSG"
      },
      "source": [
        "# TODO: Change Bob's number (or any existing contact) to a new value"
      ],
      "execution_count": null,
      "outputs": []
    },
    {
      "cell_type": "code",
      "source": [
        "# Step A3: Update Bob's number\n",
        "contacts[\"Bob\"] = \"0422 555 666\"\n",
        "\n",
        "# Check the updated dictionary\n",
        "contacts\n"
      ],
      "metadata": {
        "colab": {
          "base_uri": "https://localhost:8080/"
        },
        "id": "p1WXcZQUnA8B",
        "outputId": "1daca163-a132-406f-a24d-c4437e23633d"
      },
      "execution_count": 4,
      "outputs": [
        {
          "output_type": "execute_result",
          "data": {
            "text/plain": [
              "{'Alice': '0400 123 456',\n",
              " 'Bob': '0422 555 666',\n",
              " 'Charlie': '0422 333 444',\n",
              " 'jashan': '0455 678 999'}"
            ]
          },
          "metadata": {},
          "execution_count": 4
        }
      ]
    },
    {
      "cell_type": "markdown",
      "metadata": {
        "id": "_0_RvmHfgfSG"
      },
      "source": [
        "### A4. Print all contacts in a neat format"
      ]
    },
    {
      "cell_type": "code",
      "metadata": {
        "id": "9iaSk2vSgfSG"
      },
      "source": [
        "# TODO: Loop through the dictionary and print each contact\n",
        "# Expected format (example):\n",
        "# Alice: 0400 123 456\n",
        "# Bob: 0411 000 999"
      ],
      "execution_count": null,
      "outputs": []
    },
    {
      "cell_type": "code",
      "source": [
        "# Step A3: Update Bob's number\n",
        "contacts[\"Bob\"] = \"0422 555 666\"\n",
        "\n",
        "# Check the updated dictionary\n",
        "contacts\n"
      ],
      "metadata": {
        "colab": {
          "base_uri": "https://localhost:8080/"
        },
        "id": "nT3N8iwYn7EJ",
        "outputId": "d8f35d9b-5a27-4553-da10-f7111d0714d8"
      },
      "execution_count": 5,
      "outputs": [
        {
          "output_type": "execute_result",
          "data": {
            "text/plain": [
              "{'Alice': '0400 123 456',\n",
              " 'Bob': '0422 555 666',\n",
              " 'Charlie': '0422 333 444',\n",
              " 'jashan': '0455 678 999'}"
            ]
          },
          "metadata": {},
          "execution_count": 5
        }
      ]
    },
    {
      "cell_type": "raw",
      "metadata": {
        "id": "fJeTOuH-gfSH"
      },
      "source": [
        "\\::: callout-check\n",
        "**Checkpoint:** You should now have:\n",
        "\n",
        "1. a dictionary with **3+** contacts,\n",
        "2. one **new** entry added,\n",
        "3. one **update** made, and\n",
        "4. a **neat printout**.\n",
        "   \\:::\n",
        "\n",
        "---"
      ]
    },
    {
      "cell_type": "markdown",
      "metadata": {
        "id": "SJMh3F05gfSH"
      },
      "source": [
        "## Part B — Nested (Stretch)\n",
        "\n",
        "Give each contact both **phone** and **email** using a nested dictionary.\n",
        "\n",
        "### B1. Convert contacts to a nested structure"
      ]
    },
    {
      "cell_type": "code",
      "metadata": {
        "id": "Qpk2-xySgfSH"
      },
      "source": [
        "# TODO: Redesign `contacts` so each entry stores both a phone and an email\n",
        "contacts = {\n",
        "    # \"Alice\": {\"phone\": \"...\", \"email\": \"...\"},\n",
        "}"
      ],
      "execution_count": null,
      "outputs": []
    },
    {
      "cell_type": "code",
      "source": [
        "# Step A4: Loop through the dictionary and print each contact\n",
        "for name, phone in contacts.items():\n",
        "    print(f\"{name}: {phone}\")\n"
      ],
      "metadata": {
        "colab": {
          "base_uri": "https://localhost:8080/"
        },
        "id": "NkxiEi3toBhx",
        "outputId": "58594923-229c-49c0-c423-1963a99fef12"
      },
      "execution_count": 6,
      "outputs": [
        {
          "output_type": "stream",
          "name": "stdout",
          "text": [
            "Alice: 0400 123 456\n",
            "Bob: 0422 555 666\n",
            "Charlie: 0422 333 444\n",
            "jashan: 0455 678 999\n"
          ]
        }
      ]
    },
    {
      "cell_type": "markdown",
      "metadata": {
        "id": "9iN3fFa0gfSI"
      },
      "source": [
        "### B2. Print contacts neatly (name, phone, email)"
      ]
    },
    {
      "cell_type": "code",
      "metadata": {
        "id": "VNQRL40OgfSI"
      },
      "source": [
        "# TODO: Loop through contacts and print both phone and email"
      ],
      "execution_count": null,
      "outputs": []
    },
    {
      "cell_type": "code",
      "source": [
        "# Step B1: Convert contacts to a nested structure (phone and email)\n",
        "contacts = {\n",
        "    \"Alice\": {\"phone\": \"0400 123 456\", \"email\": \"alice@example.com\"},\n",
        "    \"Bob\": {\"phone\": \"0411 000 999\", \"email\": \"bob@example.com\"},\n",
        "    \"Charlie\": {\"phone\": \"0422 333 444\", \"email\": \"charlie@example.com\"}\n",
        "}\n",
        "\n",
        "# Check the updated structure\n",
        "contacts\n"
      ],
      "metadata": {
        "colab": {
          "base_uri": "https://localhost:8080/"
        },
        "id": "k9k1rjtsoJje",
        "outputId": "2ffa478e-5916-428b-f834-710e8fa219cf"
      },
      "execution_count": 7,
      "outputs": [
        {
          "output_type": "execute_result",
          "data": {
            "text/plain": [
              "{'Alice': {'phone': '0400 123 456', 'email': 'alice@example.com'},\n",
              " 'Bob': {'phone': '0411 000 999', 'email': 'bob@example.com'},\n",
              " 'Charlie': {'phone': '0422 333 444', 'email': 'charlie@example.com'}}"
            ]
          },
          "metadata": {},
          "execution_count": 7
        }
      ]
    },
    {
      "cell_type": "markdown",
      "metadata": {
        "id": "3LvHc-7egfSI"
      },
      "source": [
        "\\::: callout-note\n",
        "**Optional:** Add a simple **lookup** by name using `input()` to fetch phone/email.\n",
        "\\:::"
      ]
    },
    {
      "cell_type": "code",
      "metadata": {
        "id": "QvTmseZjgfSI"
      },
      "source": [
        "# TODO (optional): Prompt for a name and print their details if found"
      ],
      "execution_count": null,
      "outputs": []
    },
    {
      "cell_type": "code",
      "source": [
        "# Step B2: Print each contact's phone and email\n",
        "for name, details in contacts.items():\n",
        "    print(f\"{name}: Phone: {details['phone']}, Email: {details['email']}\")\n"
      ],
      "metadata": {
        "colab": {
          "base_uri": "https://localhost:8080/"
        },
        "id": "9RJgLZ5LoV_B",
        "outputId": "7de37a53-81a3-4ad4-fbb7-55b38661e6e5"
      },
      "execution_count": 8,
      "outputs": [
        {
          "output_type": "stream",
          "name": "stdout",
          "text": [
            "Alice: Phone: 0400 123 456, Email: alice@example.com\n",
            "Bob: Phone: 0411 000 999, Email: bob@example.com\n",
            "Charlie: Phone: 0422 333 444, Email: charlie@example.com\n"
          ]
        }
      ]
    },
    {
      "cell_type": "markdown",
      "source": [],
      "metadata": {
        "id": "x4d27xUJoVak"
      }
    },
    {
      "cell_type": "code",
      "source": [],
      "metadata": {
        "id": "QKPBzLDeoVEu"
      },
      "execution_count": null,
      "outputs": []
    },
    {
      "cell_type": "markdown",
      "metadata": {
        "id": "CCj_P53bgfSI"
      },
      "source": [
        "---\n",
        "\n",
        "## Part C — Critique AI Output (Optional, 3–5 mins)\n",
        "\n",
        "Read (don’t run) the following **over-complicated** structure:"
      ]
    },
    {
      "cell_type": "code",
      "metadata": {
        "id": "kK0PGvTOgfSJ"
      },
      "source": [
        "book = {\n",
        "    \"people\": [\n",
        "        {\"n\": \"Alice\", \"v\": [\"phone\", \"0400 123 456\", \"email\", \"alice@example.com\"]},\n",
        "        {\"n\": \"Bob\",   \"v\": [\"phone\", \"0411 000 999\", \"email\", \"bob@example.com\"]},\n",
        "    ]\n",
        "}"
      ],
      "execution_count": null,
      "outputs": []
    },
    {
      "cell_type": "code",
      "source": [
        "# Step B2: Print each contact's phone and email\n",
        "for name, details in contacts.items():\n",
        "    print(f\"{name}: Phone: {details['phone']}, Email: {details['email']}\")\n"
      ],
      "metadata": {
        "colab": {
          "base_uri": "https://localhost:8080/"
        },
        "id": "XIYuSFTboen8",
        "outputId": "71cf2dd2-0765-4a23-8272-91fbbe1fddc2"
      },
      "execution_count": 11,
      "outputs": [
        {
          "output_type": "stream",
          "name": "stdout",
          "text": [
            "Alice: Phone: 0400 123 456, Email: alice@example.com\n",
            "Bob: Phone: 0411 000 999, Email: bob@example.com\n",
            "Charlie: Phone: 0422 333 444, Email: charlie@example.com\n"
          ]
        }
      ]
    },
    {
      "cell_type": "markdown",
      "metadata": {
        "id": "Lo16Q96SgfSJ"
      },
      "source": [
        "**Your task (short text answer below or as comments):**\n",
        "\n",
        "1. Identify **two reasons** this structure is hard to read/use.\n",
        "2. Sketch a **simpler redesign** (describe briefly or outline keys you would use).\n",
        "\n",
        "\\::: callout-tip\n",
        "If you’d like AI support without giving you the answer, try a **process prompt** like:\n",
        "\n",
        "> “Help me evaluate whether the above structure is easy to use for lookups in Python. Ask me 3 guiding questions first, then suggest *principles* (not code) for a clearer dictionary-of-dictionaries design.”\n",
        "> \\:::"
      ]
    },
    {
      "cell_type": "code",
      "metadata": {
        "id": "ICJ4YZZ-gfSJ"
      },
      "source": [
        "# ← Optional: write brief notes here as a multiline string\n",
        "critique_notes = \"\"\"\n",
        "1) ...\n",
        "2) ...\n",
        "Redesign idea: ...\n",
        "\"\"\"\n",
        "critique_notes"
      ],
      "execution_count": null,
      "outputs": []
    },
    {
      "cell_type": "code",
      "source": [
        "# Step B3 (Optional): Lookup a contact by name\n",
        "name_to_lookup = input(\"Enter a name to look up: \")\n",
        "if name_to_lookup in contacts:\n",
        "    contact = contacts[name_to_lookup]\n",
        "    print(f\"{name_to_lookup}: Phone: {contact['phone']}, Email: {contact['email']}\")\n",
        "else:\n",
        "    print(\"Contact not found.\")\n"
      ],
      "metadata": {
        "colab": {
          "base_uri": "https://localhost:8080/"
        },
        "id": "LUogMvDtoqJq",
        "outputId": "5bbafcdb-98b8-4204-cb6c-a486b24cf363"
      },
      "execution_count": 13,
      "outputs": [
        {
          "output_type": "stream",
          "name": "stdout",
          "text": [
            "Enter a name to look up: Bob\n",
            "Bob: Phone: 0411 000 999, Email: bob@example.com\n"
          ]
        }
      ]
    },
    {
      "cell_type": "raw",
      "metadata": {
        "id": "E6E40CKpgfSJ"
      },
      "source": [
        "---"
      ]
    },
    {
      "cell_type": "markdown",
      "metadata": {
        "id": "tVGO_3e3gfSJ"
      },
      "source": [
        "## Submission (End of Class)\n",
        "\n",
        "1. **Show** your notebook to your tutor for a quick check.\n",
        "2. **Save** the notebook into your **Assessment 2 GitHub repo**.\n",
        "3. **Commit & push** (suggested message: `Week 6 – Mini Contact Book`).\n",
        "\n",
        "> Your full portfolio will be submitted as a **zip of the repo in Week 13**."
      ]
    },
    {
      "cell_type": "raw",
      "metadata": {
        "id": "cabcCC-8gfSJ"
      },
      "source": [
        "---\n",
        "\n",
        "## Marking (This Week)\n",
        "\n",
        "* **✅ Complete** — Part A done (dictionary created, updated, printed). Part B optional.\n",
        "* **⚠️ Attempted** — Some progress, but not all required steps.\n",
        "* **❌ Not Submitted** — Nothing shown in class and/or nothing pushed to GitHub.\n",
        "\n",
        "---"
      ]
    },
    {
      "cell_type": "markdown",
      "metadata": {
        "id": "ZdPJVV4SgfSJ"
      },
      "source": [
        "## AI Usage Note (2–3 lines)\n",
        "\n",
        "Add to your repo `README.md` **or** a final markdown cell:\n",
        "\n",
        "* What prompt(s) did you try?\n",
        "* What did you change/fix from AI’s suggestion?\n",
        "* One concept you want to practise (e.g., `.items()`, `.get()`)."
      ]
    },
    {
      "cell_type": "raw",
      "metadata": {
        "id": "veJKM1hDgfSK"
      },
      "source": [
        "---\n",
        "\n",
        "## Troubleshooting\n",
        "\n",
        "* **KeyError** → The name isn’t in the dictionary (use `in` to check).\n",
        "* **Typos** → Keys are case-sensitive (`\"Bob\"` ≠ `\"bob\"`).\n",
        "* **Overwriting** → Reassigning `contacts = {...}` replaces the old dict — that’s expected in B1.\n",
        "\n",
        "---"
      ]
    },
    {
      "cell_type": "markdown",
      "metadata": {
        "id": "wQ5QcpXYgfSK"
      },
      "source": [
        "## Extension Ideas (For fast finishers)\n",
        "\n",
        "* Add a **delete contact** option.\n",
        "* Prevent duplicates (check existence before adding).\n",
        "* Store multiple phone numbers per person (list inside the nested dict).\n"
      ]
    }
  ],
  "metadata": {
    "kernelspec": {
      "display_name": "Python 3",
      "language": "python",
      "name": "python3"
    },
    "colab": {
      "provenance": [],
      "include_colab_link": true
    }
  },
  "nbformat": 4,
  "nbformat_minor": 0
}